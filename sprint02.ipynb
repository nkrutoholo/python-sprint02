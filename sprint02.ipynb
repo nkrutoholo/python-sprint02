{
  "nbformat": 4,
  "nbformat_minor": 0,
  "metadata": {
    "colab": {
      "name": "sprint02.ipynb",
      "provenance": [],
      "collapsed_sections": [],
      "authorship_tag": "ABX9TyNYVyTwduQFpLFv6LAHr3Ba",
      "include_colab_link": true
    },
    "kernelspec": {
      "name": "python3",
      "display_name": "Python 3"
    },
    "language_info": {
      "name": "python"
    }
  },
  "cells": [
    {
      "cell_type": "markdown",
      "metadata": {
        "id": "view-in-github",
        "colab_type": "text"
      },
      "source": [
        "<a href=\"https://colab.research.google.com/github/nkrutoholo/python-sprint02/blob/main/sprint02.ipynb\" target=\"_parent\"><img src=\"https://colab.research.google.com/assets/colab-badge.svg\" alt=\"Open In Colab\"/></a>"
      ]
    },
    {
      "cell_type": "markdown",
      "metadata": {
        "id": "Nzcz8zPrjJDf"
      },
      "source": [
        "## **t00_tuple/song.py**"
      ]
    },
    {
      "cell_type": "code",
      "metadata": {
        "colab": {
          "base_uri": "https://localhost:8080/"
        },
        "id": "Jk876tcIjWfo",
        "outputId": "fb720bce-3662-49f8-a304-4fdb7b4a9a39"
      },
      "source": [
        "def song(verses, chorus):\n",
        "    res = []\n",
        "    for tup in verses:\n",
        "        res += tup\n",
        "        res += chorus\n",
        "    res += chorus\n",
        "    return tuple(res)\n",
        "\n",
        "print(song((('a', 'b'), ('c', 'd')), ('x', 'y')))\n",
        "simple_verses= (('verse1 line1', 'verse1 line2'),('verse2 line1', 'verse2 line2', 'verse2 line3'),('verse3 line1',))\n",
        "simple_chorus= ('** CHORUS line1', '** CHORUS line2')\n",
        "love_verses= ((\"There's nothing you can do that can't be done\",\"Nothing you can sing that can't be sung\",'Nothing you can say but you can learn how to play the game',\"It's easy\\n\"),(\"Nothing you can know that isn't known\",\"Nothing you can see that isn't shown\",\"Nowhere you can be that isn't where you're meant to be\",\"It's easy\\n\"))\n",
        "love_chorus= ('All you need is love', 'All you need is love','All you need is love, love', 'Love is all you need\\n')\n",
        "\n",
        "def print_test_case(verses, chorus, test_description):\n",
        "    print('\\n' + f'test -{test_description}'.center(40, '_'))\n",
        "    print('[start]', *song(verses, chorus), '[end]', sep='\\n')\n",
        "    \n",
        "if __name__== '__main__':\n",
        "    print_test_case(simple_verses, simple_chorus, 'simple')\n",
        "    print_test_case(love_verses, love_chorus, 'normal song')\n",
        "    print_test_case((tuple(),('verse2 line1', 'verse2 line2')),simple_chorus, 'one verse = empty tuple')\n",
        "    print_test_case(tuple(), simple_chorus, 'verses = empty tuple')\n",
        "    print_test_case(simple_verses, tuple(),'chorus = empty tuple')\n",
        "    print_test_case(tuple(), tuple(),'both arguments empty')"
      ],
      "execution_count": null,
      "outputs": [
        {
          "output_type": "stream",
          "text": [
            "('a', 'b', 'x', 'y', 'c', 'd', 'x', 'y', 'x', 'y')\n",
            "\n",
            "______________test -simple______________\n",
            "[start]\n",
            "verse1 line1\n",
            "verse1 line2\n",
            "** CHORUS line1\n",
            "** CHORUS line2\n",
            "verse2 line1\n",
            "verse2 line2\n",
            "verse2 line3\n",
            "** CHORUS line1\n",
            "** CHORUS line2\n",
            "verse3 line1\n",
            "** CHORUS line1\n",
            "** CHORUS line2\n",
            "** CHORUS line1\n",
            "** CHORUS line2\n",
            "[end]\n",
            "\n",
            "___________test -normal song____________\n",
            "[start]\n",
            "There's nothing you can do that can't be done\n",
            "Nothing you can sing that can't be sung\n",
            "Nothing you can say but you can learn how to play the game\n",
            "It's easy\n",
            "\n",
            "All you need is love\n",
            "All you need is love\n",
            "All you need is love, love\n",
            "Love is all you need\n",
            "\n",
            "Nothing you can know that isn't known\n",
            "Nothing you can see that isn't shown\n",
            "Nowhere you can be that isn't where you're meant to be\n",
            "It's easy\n",
            "\n",
            "All you need is love\n",
            "All you need is love\n",
            "All you need is love, love\n",
            "Love is all you need\n",
            "\n",
            "All you need is love\n",
            "All you need is love\n",
            "All you need is love, love\n",
            "Love is all you need\n",
            "\n",
            "[end]\n",
            "\n",
            "_____test -one verse = empty tuple______\n",
            "[start]\n",
            "** CHORUS line1\n",
            "** CHORUS line2\n",
            "verse2 line1\n",
            "verse2 line2\n",
            "** CHORUS line1\n",
            "** CHORUS line2\n",
            "** CHORUS line1\n",
            "** CHORUS line2\n",
            "[end]\n",
            "\n",
            "_______test -verses = empty tuple_______\n",
            "[start]\n",
            "** CHORUS line1\n",
            "** CHORUS line2\n",
            "[end]\n",
            "\n",
            "_______test -chorus = empty tuple_______\n",
            "[start]\n",
            "verse1 line1\n",
            "verse1 line2\n",
            "verse2 line1\n",
            "verse2 line2\n",
            "verse2 line3\n",
            "verse3 line1\n",
            "[end]\n",
            "\n",
            "_______test -both arguments empty_______\n",
            "[start]\n",
            "[end]\n"
          ],
          "name": "stdout"
        }
      ]
    },
    {
      "cell_type": "markdown",
      "metadata": {
        "id": "NfN-8HE23DzV"
      },
      "source": [
        "## **t01_dict/cookbook.py**"
      ]
    },
    {
      "cell_type": "code",
      "metadata": {
        "id": "PYCvfnX9mlbd",
        "colab": {
          "base_uri": "https://localhost:8080/"
        },
        "outputId": "3e6796ca-e86d-447d-eae6-4f47f282459b"
      },
      "source": [
        "def search_cookbook(cookbook, recipe, section):\n",
        "    r = cookbook.get(recipe)\n",
        "    s = cookbook.get(recipe, {}).get(section)\n",
        "\n",
        "    if r == None:\n",
        "        return f'There is no \"{recipe}\" recipe in the cookbook.'\n",
        "    elif s == None:\n",
        "        return f'There is no section \"{section}\" in the \"{recipe}\" recipe.'\n",
        "    return s \n",
        "\n",
        "def test_cookbook(target_cookbook, target_recipe, target_section):\n",
        "    print(f'Searching for section \"{target_section}\" '\n",
        "          f'in recipe \"{target_recipe}\":')\n",
        "    print(search_cookbook(target_cookbook, target_recipe, target_section))\n",
        "    print('---')\n",
        "    \n",
        "if __name__== '__main__':\n",
        "    cookbook= {\n",
        "        'Salmon salad': {\n",
        "            'ingredients': ['salmon', 'tomatoes', 'spinach'],\n",
        "            'prep time': 15,\n",
        "            'directions': 'Cut tomatoes. Mix all ingredients together.'\n",
        "            },\n",
        "            'Fried eggs': {\n",
        "                'ingredients': ['eggs', 'salt', 'black pepper'],\n",
        "                'prep time': 5\n",
        "            },\n",
        "            'Banana smoothie': {\n",
        "                'prep time': 10,\n",
        "                'nutrition per serving': ['Calories 122', 'Protein 5 g']\n",
        "            }\n",
        "    }\n",
        "    test_cookbook(cookbook, 'Salmon salad', 'directions')\n",
        "    test_cookbook(cookbook, 'Fried eggs', 'ingredients')\n",
        "    test_cookbook(cookbook, 'Salmon salad', 'nutrition per serving')\n",
        "    test_cookbook(cookbook, 'Apple pie', 'prep time')\n",
        "    # empty cookbook dict\n",
        "    test_cookbook(dict(),'Tiramisu', 'ingredients')\n",
        "    # other data types as keys\n",
        "    cookbook= {15: {('1', '0'): 'ten', 'a': 'something'}}\n",
        "    test_cookbook(cookbook, 15, ('1', '0'))\n",
        "    test_cookbook(cookbook, 7, 'a')\n"
      ],
      "execution_count": null,
      "outputs": [
        {
          "output_type": "stream",
          "text": [
            "Searching for section \"directions\" in recipe \"Salmon salad\":\n",
            "Cut tomatoes. Mix all ingredients together.\n",
            "---\n",
            "Searching for section \"ingredients\" in recipe \"Fried eggs\":\n",
            "['eggs', 'salt', 'black pepper']\n",
            "---\n",
            "Searching for section \"nutrition per serving\" in recipe \"Salmon salad\":\n",
            "There is no section \"nutrition per serving\" in the \"Salmon salad\" recipe.\n",
            "---\n",
            "Searching for section \"prep time\" in recipe \"Apple pie\":\n",
            "There is no \"Apple pie\" recipe in the cookbook.\n",
            "---\n",
            "Searching for section \"ingredients\" in recipe \"Tiramisu\":\n",
            "There is no \"Tiramisu\" recipe in the cookbook.\n",
            "---\n",
            "Searching for section \"('1', '0')\" in recipe \"15\":\n",
            "ten\n",
            "---\n",
            "Searching for section \"a\" in recipe \"7\":\n",
            "There is no \"7\" recipe in the cookbook.\n",
            "---\n"
          ],
          "name": "stdout"
        }
      ]
    },
    {
      "cell_type": "markdown",
      "metadata": {
        "id": "VOdMNtYg53Pk"
      },
      "source": [
        "## **t02_set/witch_hunt.py**"
      ]
    },
    {
      "cell_type": "code",
      "metadata": {
        "id": "PNmYnfPF6cxo",
        "colab": {
          "base_uri": "https://localhost:8080/"
        },
        "outputId": "2a82136f-2c62-48b4-c599-e91559c6b208"
      },
      "source": [
        "def witch_hunt(suspect_sets, innocent_sets):\n",
        "    if suspect_sets:\n",
        "        return suspect_sets.pop().intersection(*suspect_sets).difference(*innocent_sets)\n",
        "    else:\n",
        "        return set()\n",
        "        \n",
        "def run_test(suspect_sets, innocent_sets):\n",
        "    witches = witch_hunt(suspect_sets, innocent_sets)\n",
        "    assert isinstance(witches, set)\n",
        "    print(f'Witches found:{sorted(list(witches))}')\n",
        "    \n",
        "if __name__== '__main__':\n",
        "    can_read = {'Keeva', 'Daegal', 'Adam', 'Bellatrix', 'Ulrich', 'Keene','Evanora', 'Earthan', 'Paxton', 'Alice', 'Candice', 'Cedonia','Zelig', 'Lydia', 'Mortimer'}\n",
        "    talk_to_self = {'Candice', 'Lydia', 'Chilton', 'Alice', 'Cedonia','Minerva', 'Adam', 'Daegal', 'Camilla', 'Keene','Chalmers', 'Keeva', 'Paxton'}\n",
        "    healers = {'Bellatrix', 'Cullen', 'Adam', 'Alice', 'Lydia', 'Ulrich','Zelig', 'Cedonia', 'Paris', 'Chalmers', 'Chilton','Minerva', 'Paxton', 'Mortimer', 'Earthan', 'Daegal'}\n",
        "    wealthy = {'Chalmers', 'Keeva', 'Alice', 'Cullen', 'Minerva'}\n",
        "    men = {'Keene', 'Zelig', 'Mortimer', 'Adam', 'Ulrich', 'Chalmers','Paxton', 'Cullen', 'Chilton', 'Earthan', 'Daegal'}\n",
        "    run_test([can_read, talk_to_self, healers], [wealthy, men])\n",
        "    run_test([],[wealthy, men])\n",
        "    run_test([can_read, talk_to_self, healers], [])\n",
        "    print(witch_hunt([{'a', 'b', 'c', 'd'}, {'d', 'b', 'a', 'e'}], [{'d', 'f', 'g'}, {'x', 'y'}]))\n",
        "    print(witch_hunt([],[]))\n",
        "    print(witch_hunt([{10, 5, 6}, {7, 10, 2}],[]))\n",
        "    print(witch_hunt([],[{13, 4}, {15, 6, 0}]))\n"
      ],
      "execution_count": null,
      "outputs": [
        {
          "output_type": "stream",
          "text": [
            "Witches found:['Cedonia', 'Lydia']\n",
            "Witches found:[]\n",
            "Witches found:['Adam', 'Alice', 'Cedonia', 'Daegal', 'Lydia', 'Paxton']\n",
            "{'b', 'a'}\n",
            "set()\n",
            "{10}\n",
            "set()\n"
          ],
          "name": "stdout"
        }
      ]
    },
    {
      "cell_type": "markdown",
      "metadata": {
        "id": "tEl3MJflLI5P"
      },
      "source": [
        "## **t03_bubble_sort/bubble_sort.py**"
      ]
    },
    {
      "cell_type": "code",
      "metadata": {
        "colab": {
          "base_uri": "https://localhost:8080/"
        },
        "id": "AtNECvZL6kZm",
        "outputId": "586271c6-66bd-4f03-962b-0a27db966d7f"
      },
      "source": [
        "def bubble_sort(a):\n",
        "    l = len(a)\n",
        "    for i in range(l):\n",
        "        for j in range(0, l - i - 1):\n",
        "            if a[j] > a[j + 1]:\n",
        "                a[j], a[j + 1] = a[j + 1], a[j]\n",
        "\n",
        "test_case_1 = [1, 2, 3, -1230]\n",
        "test_case_2 = [3, 2, 1, 2, 2, 2, 3, 9, 8, 1, 3, 12, 32]\n",
        "t = []\n",
        "test_case_4 = [0, 1, -20, 0, 3]\n",
        "\n",
        "if __name__== '__main__':\n",
        "    print(f'Before sorting:{test_case_1}')\n",
        "    bubble_sort(test_case_1)\n",
        "    print(f'After sorting:{test_case_1}')\n",
        "    print('***')\n",
        "    print(f'Before sorting:{test_case_2}')\n",
        "    bubble_sort(test_case_2)\n",
        "    print(f'After sorting:{test_case_2}')\n",
        "    bubble_sort(t)\n",
        "    print(t)\n",
        "    bubble_sort(test_case_4)\n",
        "    print(test_case_4)"
      ],
      "execution_count": null,
      "outputs": [
        {
          "output_type": "stream",
          "text": [
            "Before sorting:[1, 2, 3, -1230]\n",
            "After sorting:[-1230, 1, 2, 3]\n",
            "***\n",
            "Before sorting:[3, 2, 1, 2, 2, 2, 3, 9, 8, 1, 3, 12, 32]\n",
            "After sorting:[1, 1, 2, 2, 2, 2, 3, 3, 3, 8, 9, 12, 32]\n",
            "[]\n",
            "[-20, 0, 0, 1, 3]\n"
          ],
          "name": "stdout"
        }
      ]
    },
    {
      "cell_type": "markdown",
      "metadata": {
        "id": "m4QnlkC5OCTl"
      },
      "source": [
        "## **t04_unique/unique.py**"
      ]
    },
    {
      "cell_type": "code",
      "metadata": {
        "colab": {
          "base_uri": "https://localhost:8080/"
        },
        "id": "yxwnggsWOKVN",
        "outputId": "32102e74-3747-42e4-9093-6440c0726500"
      },
      "source": [
        "def make_unique(dict_list):\n",
        "    for key in dict_list:\n",
        "        dict_list[key] = list(sorted(set(dict_list[key])))\n",
        "    return dict_list            \n",
        "\n",
        "test_case_1 = {\"city\": ['Kharkiv', 'Kyiv', 'Lviv', 'Dnipro', 'Kyiv', 'Kyiv', 'Kharkiv','Kharkiv', 'Lviv'],\"age\": [16, 16, 17, 18, 19, 19, 19, 18, 20],\n",
        "}\n",
        "test_case_2= {\"hobby\": ['drawing', 'basketball', 'drawing', 'drawing', 'basketball', 'dancing', 'dancing', 'dancing', 'dancing'],\"format\": ['individually', 'individually', 'group', 'individually', 'group','individually', 'group', 'group', 'group'],\n",
        "}\n",
        "\n",
        "if __name__== '__main__':\n",
        "    print('-----Before-----')\n",
        "    print(test_case_1)\n",
        "    print('-----After-----')\n",
        "    print(make_unique(test_case_1))\n",
        "    print('***')\n",
        "    print('-----Before-----')\n",
        "    print(test_case_2)\n",
        "    print('-----After-----')\n",
        "    print(make_unique(test_case_2))\n"
      ],
      "execution_count": null,
      "outputs": [
        {
          "output_type": "stream",
          "text": [
            "-----Before-----\n",
            "{'city': ['Kharkiv', 'Kyiv', 'Lviv', 'Dnipro', 'Kyiv', 'Kyiv', 'Kharkiv', 'Kharkiv', 'Lviv'], 'age': [16, 16, 17, 18, 19, 19, 19, 18, 20]}\n",
            "-----After-----\n",
            "{'city': ['Dnipro', 'Kharkiv', 'Kyiv', 'Lviv'], 'age': [16, 17, 18, 19, 20]}\n",
            "***\n",
            "-----Before-----\n",
            "{'hobby': ['drawing', 'basketball', 'drawing', 'drawing', 'basketball', 'dancing', 'dancing', 'dancing', 'dancing'], 'format': ['individually', 'individually', 'group', 'individually', 'group', 'individually', 'group', 'group', 'group']}\n",
            "-----After-----\n",
            "{'hobby': ['basketball', 'dancing', 'drawing'], 'format': ['group', 'individually']}\n"
          ],
          "name": "stdout"
        }
      ]
    },
    {
      "cell_type": "markdown",
      "metadata": {
        "id": "z31Gjz2sNxsx"
      },
      "source": [
        "## **t05_regex/regex.py**"
      ]
    },
    {
      "cell_type": "code",
      "metadata": {
        "id": "EtiOd6546flE",
        "colab": {
          "base_uri": "https://localhost:8080/"
        },
        "outputId": "30d44301-d0ec-46ee-cdc0-96e62b304d63"
      },
      "source": [
        "import re\n",
        "\n",
        "def check_address(dict):\n",
        "    res = []\n",
        "\n",
        "    for key, value in dict.items():\n",
        "        if re.match('^Ukraine,([\\s])*[a-zA-Z]+(?:[\\s-][a-zA-Z]+)*,([\\s])*[a-zA-Z]+(?:[\\s-][a-zA-Z]+)*[ ]+[0-9]{1,6},[\\s]*[0-9]{5}$', value):\n",
        "            res.append(f'The address of {key} is valid.')\n",
        "        else:\n",
        "            res.append(f'The address of {key} is invalid.')\n",
        "    return res\n",
        "\n",
        "dictionary = {'Dmitry Chaykin': 'Ukraine ,  Kyiv  ,  Dorohozhytska    3,  04119','Andrey Myskin': 'Ukraine, Lviv, volodymyra velykoho 52, 79053','Tatyana Tsareva': 'Ukraine, Kyiv, Mykola Grinchenko 4, 03038','Zhanna Akopyan': 'Ukraine, Kharkiv, 23 August 33, 61000','Viktor Vasilyev': 'Ukraine, 5 Pasternaka Street Lviv 79000','Andrey Sharov': '271 Akademika Pavlova Street, Kharkiv, Ukraine',}\n",
        "    \n",
        "if __name__== '__main__':\n",
        "    print(*check_address(dictionary), sep='\\n')"
      ],
      "execution_count": null,
      "outputs": [
        {
          "output_type": "stream",
          "text": [
            "The address of Dmitry Chaykin is invalid.\n",
            "The address of Andrey Myskin is valid.\n",
            "The address of Tatyana Tsareva is valid.\n",
            "The address of Zhanna Akopyan is invalid.\n",
            "The address of Viktor Vasilyev is invalid.\n",
            "The address of Andrey Sharov is invalid.\n"
          ],
          "name": "stdout"
        }
      ]
    },
    {
      "cell_type": "markdown",
      "metadata": {
        "id": "wKLBFoXjQbgv"
      },
      "source": [
        "## **t06_generators/cube.py**"
      ]
    },
    {
      "cell_type": "code",
      "metadata": {
        "colab": {
          "base_uri": "https://localhost:8080/"
        },
        "id": "UNK6GY-CQmGk",
        "outputId": "151c6f2a-f46d-4e80-e341-ed20ca6e6df4"
      },
      "source": [
        "def cube(n=int):\n",
        "    while n > 0:\n",
        "        yield n**3\n",
        "        n -= 1\n",
        "\n",
        "if __name__== '__main__':\n",
        "    n = 3\n",
        "    print(f'***Passed parameter - {n}***')\n",
        "    for i in cube(n):\n",
        "        print(i)\n",
        "\n",
        "    print('***')\n",
        "    n = 8\n",
        "    print(f'***Passed parameter -{n}***')\n",
        "    for i in cube(n):\n",
        "        print(i)\n",
        "    print('***')\n",
        "    n = 10\n",
        "    print(f'***Passed parameter -{n}***')\n",
        "    for i in cube(n):\n",
        "        print(i)\n",
        "    print('***')\n",
        "    n = 0\n",
        "    print(f'***Passed parameter -{n}***')\n",
        "    for i in cube(n):\n",
        "        print(i)\n",
        "    print('***')\n",
        "    n = -5\n",
        "    print(f'***Passed parameter -{n}***')\n",
        "    for i in cube(n):\n",
        "        print(i)\n",
        "    print('***')"
      ],
      "execution_count": null,
      "outputs": [
        {
          "output_type": "stream",
          "text": [
            "***Passed parameter - 3***\n",
            "27\n",
            "8\n",
            "1\n",
            "***\n",
            "***Passed parameter -8***\n",
            "512\n",
            "343\n",
            "216\n",
            "125\n",
            "64\n",
            "27\n",
            "8\n",
            "1\n",
            "***\n",
            "***Passed parameter -10***\n",
            "1000\n",
            "729\n",
            "512\n",
            "343\n",
            "216\n",
            "125\n",
            "64\n",
            "27\n",
            "8\n",
            "1\n",
            "***\n",
            "***Passed parameter -0***\n",
            "***\n",
            "***Passed parameter --5***\n",
            "***\n"
          ],
          "name": "stdout"
        }
      ]
    },
    {
      "cell_type": "markdown",
      "metadata": {
        "id": "3REhAHGXWaXh"
      },
      "source": [
        "## **t07_contacts/contacts.py**"
      ]
    },
    {
      "cell_type": "code",
      "metadata": {
        "id": "HSaL_uU7V9wI",
        "colab": {
          "base_uri": "https://localhost:8080/"
        },
        "outputId": "db4fb8b5-a399-4817-99ca-3aba22e03432"
      },
      "source": [
        "import re\n",
        "\n",
        "def validator(info):\n",
        "    if 'name' not in info or 'email' not in info:\n",
        "        return False\n",
        "    #в файле со спринтом генерируются имена с цифрами WTF\n",
        "    if re.match(r'^[^@]+@[^@]+\\.[^@]+$', info['email']) == None or \\\n",
        "       re.match(r'^[a-zA-Z\\s]*$', info['name']) == None:\n",
        "        return False\n",
        "    else:\n",
        "        return True\n",
        "\n",
        "def add_op(container, info):\n",
        "    container[info['email']] = info\n",
        "    container[info['email']].pop('email')\n",
        "    return True\n",
        "\n",
        "def update_op(container, info):\n",
        "    container[info['email']].update(info)\n",
        "    container[info['email']].pop('email')\n",
        "    return True\n",
        "\n",
        "def delete_op(container, info):\n",
        "    container.pop(info['email'])\n",
        "    return True\n",
        "\n",
        "def contacts(container, info, operation):\n",
        "    if validator(info):\n",
        "        if operation == 'add':\n",
        "            return add_op(container, info)\n",
        "        elif operation == 'update' and \\\n",
        "             info['email'] in container:\n",
        "            return update_op(container, info)\n",
        "        elif operation == 'delete' and \\\n",
        "             info['email'] in container:\n",
        "            return delete_op(container, info)\n",
        "        return False\n",
        "    return False\n",
        "\n",
        "container= {}\n",
        "contacts(container, {'name': 'Bob', 'email': 'bob@gmail.com', 'job': 'builder'},'add')\n",
        "contacts(container, {'name': 'Anne', 'email': 'anne@gmail.com', 'age': 25}, 'add')\n",
        "print(container)\n",
        "contacts(container, {'name': 'Lisa', 'email': 'anne@gmail.com', 'pet': 'dog'}, 'add')\n",
        "print(container)\n",
        "contacts(container, {'name': 'Lisa', 'email': 'anne@gmail.com', 'pet': 'dog'}, 'add')\n",
        "print(container)\n",
        "container = {'bob@gmail.com': {'name': 'Bob', 'job': 'builder'}, 'anne@gmail.com': {'name': 'Lisa','pet': 'NOT A DOG', 'age': 404}}\n",
        "print(contacts(container, {'name': 'Not even the correct name', 'email': 'anne@gmail.com'},'loh'))\n"
      ],
      "execution_count": null,
      "outputs": [
        {
          "output_type": "stream",
          "text": [
            "{'bob@gmail.com': {'name': 'Bob', 'job': 'builder'}, 'anne@gmail.com': {'name': 'Anne', 'age': 25}}\n",
            "{'bob@gmail.com': {'name': 'Bob', 'job': 'builder'}, 'anne@gmail.com': {'name': 'Lisa', 'pet': 'dog'}}\n",
            "{'bob@gmail.com': {'name': 'Bob', 'job': 'builder'}, 'anne@gmail.com': {'name': 'Lisa', 'pet': 'dog'}}\n",
            "False\n"
          ],
          "name": "stdout"
        }
      ]
    },
    {
      "cell_type": "markdown",
      "metadata": {
        "id": "25wkcaoy1XY3"
      },
      "source": [
        "## **t08_contains/contains.py**"
      ]
    },
    {
      "cell_type": "code",
      "metadata": {
        "colab": {
          "base_uri": "https://localhost:8080/"
        },
        "id": "Ycdkvjuw1eFM",
        "outputId": "48d3ba7b-173c-4e8f-963e-8d3b1e3ea781"
      },
      "source": [
        "def contains(string, substr_list):\n",
        "    return [s for s in substr_list if s.lower() in string.lower()]\n",
        "\n",
        "if __name__== '__main__':\n",
        "    # define the test cases\n",
        "    str1 = 'Ah, I see you have the machine that goes\\'ping\\'. '\\\n",
        "           'This is my favorite.'\n",
        "    substr1= ['ping', 'machine']\n",
        "    str2= 'Strange women lying in ponds, distributing swords, is no basis'\\\n",
        "          'for a system of government!'\n",
        "    substr2= ['strange', 'no, basis']\n",
        "    # find the present words\n",
        "    res1 = contains(str1, substr1)\n",
        "    res2= contains(str2, substr2)\n",
        "    # print the result\n",
        "    print('-----Agruments-----')\n",
        "    print(f\"'{str1}'\\n{substr1}\")\n",
        "    print('-----Detected-----')\n",
        "    print(res1)\n",
        "    print('***')\n",
        "    print('-----Agruments-----')\n",
        "    print(f\"'{str2}'\\n{substr2}\")\n",
        "    print('-----Detected-----')\n",
        "    print(res2)\n"
      ],
      "execution_count": null,
      "outputs": [
        {
          "output_type": "stream",
          "text": [
            "-----Agruments-----\n",
            "'Ah, I see you have the machine that goes'ping'. This is my favorite.'\n",
            "['ping', 'machine']\n",
            "-----Detected-----\n",
            "['ping', 'machine']\n",
            "***\n",
            "-----Agruments-----\n",
            "'Strange women lying in ponds, distributing swords, is no basisfor a system of government!'\n",
            "['strange', 'no, basis']\n",
            "-----Detected-----\n",
            "['strange']\n"
          ],
          "name": "stdout"
        }
      ]
    },
    {
      "cell_type": "markdown",
      "metadata": {
        "id": "zdqiO_RLakfP"
      },
      "source": [
        "## **t09_fibonacci/fib.py**"
      ]
    },
    {
      "cell_type": "code",
      "metadata": {
        "colab": {
          "base_uri": "https://localhost:8080/"
        },
        "id": "pNA_EAtcapO_",
        "outputId": "fd570fb4-ffcd-47a2-8089-206b765730ed"
      },
      "source": [
        "def fib(n):\n",
        "    if n == 0:\n",
        "        return 0\n",
        "    elif n == 1:\n",
        "        return 1\n",
        "    else:\n",
        "        return fib(n - 1) + fib(n - 2)\n",
        "\n",
        "def fib_generator(n):\n",
        "    for i in range(n):\n",
        "        yield fib(i)\n",
        "\n",
        "if __name__== '__main__':\n",
        "    n = 20\n",
        "    print(f'The number under the index {n} is {fib(20)}')\n",
        "    print('***')\n",
        "    n = 5\n",
        "    print(f'The number under the index {n} is {fib(5)}')\n",
        "    print('***')\n",
        "    for i, n in enumerate(fib_generator(5)):\n",
        "        print(f'Fibonacci number for {i} is {n}')\n",
        "    print('***')\n",
        "    for i, n in enumerate(fib_generator(10)):\n",
        "        print(f'Fibonacci number for {i} is {n}')\n",
        "    print('***')\n",
        "    for i in fib_generator(5):\n",
        "        print(i)\n"
      ],
      "execution_count": null,
      "outputs": [
        {
          "output_type": "stream",
          "text": [
            "The number under the index 20 is 6765\n",
            "***\n",
            "The number under the index 5 is 5\n",
            "***\n",
            "Fibonacci number for 0 is 0\n",
            "Fibonacci number for 1 is 1\n",
            "Fibonacci number for 2 is 1\n",
            "Fibonacci number for 3 is 2\n",
            "Fibonacci number for 4 is 3\n",
            "***\n",
            "Fibonacci number for 0 is 0\n",
            "Fibonacci number for 1 is 1\n",
            "Fibonacci number for 2 is 1\n",
            "Fibonacci number for 3 is 2\n",
            "Fibonacci number for 4 is 3\n",
            "Fibonacci number for 5 is 5\n",
            "Fibonacci number for 6 is 8\n",
            "Fibonacci number for 7 is 13\n",
            "Fibonacci number for 8 is 21\n",
            "Fibonacci number for 9 is 34\n",
            "***\n",
            "0\n",
            "1\n",
            "1\n",
            "2\n",
            "3\n"
          ],
          "name": "stdout"
        }
      ]
    },
    {
      "cell_type": "code",
      "metadata": {
        "id": "RA0g3FZ0dq08"
      },
      "source": [
        ""
      ],
      "execution_count": null,
      "outputs": []
    }
  ]
}